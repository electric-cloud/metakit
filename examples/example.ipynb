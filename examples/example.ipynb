{
	"cells": [{
			"cell_type": "markdown",
			"metadata": {},
			"source": ["Docs from the example from `python.html`"]
		}, {
			"cell_type": "code",
			"execution_count": 1,
			"metadata": {},
			"outputs": [],
			"source": ["import metakit"]
		}, {
			"cell_type": "code",
			"execution_count": 3,
			"metadata": {},
			"outputs": [],
			"source": ["db = metakit.storage() # Create a database"]
		}, {
			"cell_type": "markdown",
			"metadata": {},
			"source": ["Create a view (this is the Metakit term for \"table\")"]
		}, {
			"cell_type": "code",
			"execution_count": 4,
			"metadata": {},
			"outputs": [],
			"source": ["vw = db.getas(\"people[first:S,last:S,shoesize:I]\")"]
		}, {
			"cell_type": "markdown",
			"metadata": {},
			"source": ["Add two rows (this is the Metakit term for \"record\")"]
		}, {
			"cell_type": "code",
			"execution_count": 13,
			"metadata": {},
			"outputs": [{
					"data": {
						"text/plain": ["3"]
					},
					"execution_count": 13,
					"metadata": {},
					"output_type": "execute_result"
				}
			],
			"source": ["vw.append(first='John',last='Lennon',shoesize=44)\n", "vw.append(first='Flash',last='Gordon',shoesize=42)"]
		}, {
			"cell_type": "markdown",
			"metadata": {},
			"source": ["Commit the changes to file:"]
		}, {
			"cell_type": "code",
			"execution_count": 12,
			"metadata": {},
			"outputs": [],
			"source": ["#db.commit() # not needed for in-memory DB"]
		}, {
			"cell_type": "markdown",
			"metadata": {},
			"source": ["Show a list of all people:"]
		}, {
			"cell_type": "code",
			"execution_count": 8,
			"metadata": {},
			"outputs": [{
					"name": "stdout",
					"output_type": "stream",
					"text": ["John Lennon 44\n", "Flash Gordon 42\n"]
				}
			],
			"source": ["for r in vw:\n", "    print(r.first, r.last, r.shoesize)"]
		}, {
			"cell_type": "markdown",
			"metadata": {},
			"source": ["Show a list of all people, sorted by last name:"]
		}, {
			"cell_type": "code",
			"execution_count": 9,
			"metadata": {},
			"outputs": [{
					"name": "stdout",
					"output_type": "stream",
					"text": ["Flash Gordon 42\n", "John Lennon 44\n"]
				}
			],
			"source": ["for r in vw.sort(vw.last):\n", "    print(r.first, r.last, r.shoesize)"]
		}, {
			"cell_type": "markdown",
			"metadata": {},
			"source": ["Show a list of all people with first name 'John':"]
		}, {
			"cell_type": "code",
			"execution_count": 11,
			"metadata": {},
			"outputs": [{
					"name": "stdout",
					"output_type": "stream",
					"text": ["John Lennon 44\n"]
				}
			],
			"source": ["for r in vw.select(first='John'):\n", "    print(r.first, r.last, r.shoesize)"]
		}, {
			"cell_type": "code",
			"execution_count": null,
			"metadata": {},
			"outputs": [],
			"source": []
		}
	],
	"metadata": {
		"kernelspec": {
			"display_name": "Python 3",
			"language": "python",
			"name": "python3"
		},
		"language_info": {
			"codemirror_mode": {
				"name": "ipython",
				"version": 3
			},
			"file_extension": ".py",
			"mimetype": "text/x-python",
			"name": "python",
			"nbconvert_exporter": "python",
			"pygments_lexer": "ipython3",
			"version": "3.7.5"
		}
	},
	"nbformat": 4,
	"nbformat_minor": 2
}
